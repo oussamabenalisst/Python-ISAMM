{
 "cells": [
  {
   "cell_type": "code",
   "execution_count": 1,
   "id": "262f5599",
   "metadata": {},
   "outputs": [],
   "source": [
    "# Ce script crée un fichier audio WAV contenant une onde sinusoïdale à 440 Hz (note La)\n",
    "\n",
    "import wave  # Module pour manipuler des fichiers audio WAV\n",
    "import math  # Module pour les fonctions mathématiques comme sin()\n",
    "import struct  # Module pour convertir des nombres en format binaire\n",
    "\n",
    "# Définition des paramètres du fichier audio\n",
    "nom_fichier = (\n",
    "    \"C:/xampp/htdocs/prg/isamm/python/tr1/exemple.wav\"  # Nom du fichier à créer\n",
    ")\n",
    "framerate = 44100  # Nombre d'échantillons par seconde (qualité audio)\n",
    "nchannels = 1  # Nombre de canaux audio (1 = mono)\n",
    "sampwith = 2  # Taille de chaque échantillon (2 octets = 16 bits)\n",
    "nframes = 44100  # Nombre total d'échantillons (1 seconde de son)\n",
    "comptype = \"NONE\"  # Type de compression (aucune)\n",
    "compname = \"not compressed\"  # Description de la compression\n",
    "\n",
    "# Création et configuration du fichier WAV\n",
    "with wave.open(nom_fichier, \"w\") as fichier_audio:\n",
    "    fichier_audio.setparams(\n",
    "        (nchannels, sampwith, framerate, nframes, comptype, compname)\n",
    "    )\n",
    "\n",
    "    # Génération de l'onde sinusoïdale et écriture dans le fichier\n",
    "    for i in range(nframes):\n",
    "        # Calcul de la valeur de l'échantillon à partir d'une onde sinusoïdale à 440 Hz\n",
    "        valeur = int(32767.0 * math.sin(2.0 * math.pi * 440.0 * i / float(framerate)))\n",
    "\n",
    "        # Conversion de la valeur en format binaire et écriture dans le fichier\n",
    "        fichier_audio.writeframes(struct.pack(\"<h\", valeur))\n"
   ]
  }
 ],
 "metadata": {
  "kernelspec": {
   "display_name": "Python 3",
   "language": "python",
   "name": "python3"
  },
  "language_info": {
   "codemirror_mode": {
    "name": "ipython",
    "version": 3
   },
   "file_extension": ".py",
   "mimetype": "text/x-python",
   "name": "python",
   "nbconvert_exporter": "python",
   "pygments_lexer": "ipython3",
   "version": "3.9.13"
  }
 },
 "nbformat": 4,
 "nbformat_minor": 5
}
