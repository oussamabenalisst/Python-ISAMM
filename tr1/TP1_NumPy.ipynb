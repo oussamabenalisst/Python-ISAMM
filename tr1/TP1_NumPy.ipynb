{
  "cells": [
    {
      "cell_type": "markdown",
      "id": "023b8dae",
      "metadata": {
        "id": "023b8dae"
      },
      "source": [
        "# TP1 : Initiation à Python avec NumPy\n",
        "Ce notebook reprend les exercices du TP1 et montre les résultats directement dans Google Colab.\n",
        "Objectifs :\n",
        "- Manipulation des tableaux avec NumPy\n",
        "- Indexation et slicing\n",
        "- Masquage et conditions logiques\n",
        "- Fonctions mathématiques et statistiques\n",
        "- Algèbre linéaire avec NumPy"
      ]
    },
    {
      "cell_type": "code",
      "execution_count": null,
      "id": "08501e39",
      "metadata": {
        "id": "08501e39"
      },
      "outputs": [],
      "source": [
        "import numpy as np\n",
        "import numpy.ma as ma"
      ]
    },
    {
      "cell_type": "markdown",
      "id": "2937f33c",
      "metadata": {
        "id": "2937f33c"
      },
      "source": [
        "## 1. Construction d'un tableau"
      ]
    },
    {
      "cell_type": "code",
      "execution_count": null,
      "id": "06553078",
      "metadata": {
        "colab": {
          "base_uri": "https://localhost:8080/"
        },
        "id": "06553078",
        "outputId": "93722556-c675-4a28-ab12-50787c03ab0c"
      },
      "outputs": [
        {
          "output_type": "execute_result",
          "data": {
            "text/plain": [
              "array([[1, 2, 3],\n",
              "       [4, 5, 6],\n",
              "       [7, 8, 9]])"
            ]
          },
          "metadata": {},
          "execution_count": 2
        }
      ],
      "source": [
        "A = np.array([[1,2,3],[4,5,6],[7,8,9]])\n",
        "A"
      ]
    },
    {
      "cell_type": "markdown",
      "id": "bc4b11eb",
      "metadata": {
        "id": "bc4b11eb"
      },
      "source": [
        "### 1.1 Indexation"
      ]
    },
    {
      "cell_type": "code",
      "execution_count": null,
      "id": "0bcdf261",
      "metadata": {
        "colab": {
          "base_uri": "https://localhost:8080/"
        },
        "id": "0bcdf261",
        "outputId": "a764d741-8bc2-483e-c1d9-5e44e718a6e7"
      },
      "outputs": [
        {
          "output_type": "stream",
          "name": "stdout",
          "text": [
            "A[0,0] = 1\n",
            "A[0,1] = 2\n"
          ]
        }
      ],
      "source": [
        "print('A[0,0] =', A[0,0])\n",
        "print('A[0,1] =', A[0,1])"
      ]
    },
    {
      "cell_type": "markdown",
      "id": "e9465247",
      "metadata": {
        "id": "e9465247"
      },
      "source": [
        "### 1.2 Slicing"
      ]
    },
    {
      "cell_type": "code",
      "execution_count": null,
      "id": "e6231d57",
      "metadata": {
        "colab": {
          "base_uri": "https://localhost:8080/"
        },
        "id": "e6231d57",
        "outputId": "4276625c-37b5-460c-8c0e-b89500d031f8"
      },
      "outputs": [
        {
          "output_type": "stream",
          "name": "stdout",
          "text": [
            "A[0:2, 1:3] =\n",
            " [[2 3]\n",
            " [5 6]]\n",
            "A[:,1] = [2 5 8]\n",
            "A[1,:] = [4 5 6]\n",
            "B = A[:,1:2]\n",
            " [[2]\n",
            " [5]\n",
            " [8]]\n",
            "A[:,-1] = [3 6 9]\n",
            "A[:,-2] = [2 5 8]\n",
            "A[:,-2:] =\n",
            " [[2 3]\n",
            " [5 6]\n",
            " [8 9]]\n"
          ]
        }
      ],
      "source": [
        "print('A[0:2, 1:3] =\\n', A[0:2, 1:3])\n",
        "print('A[:,1] =', A[:,1])\n",
        "print('A[1,:] =', A[1,:])\n",
        "print('B = A[:,1:2]\\n', A[:,1:2])\n",
        "print('A[:,-1] =', A[:,-1])\n",
        "print('A[:,-2] =', A[:,-2])\n",
        "print('A[:,-2:] =\\n', A[:,-2:])"
      ]
    },
    {
      "cell_type": "markdown",
      "id": "36e8a0fe",
      "metadata": {
        "id": "36e8a0fe"
      },
      "source": [
        "### 1.3 Masking"
      ]
    },
    {
      "cell_type": "code",
      "execution_count": null,
      "id": "3f229a5d",
      "metadata": {
        "colab": {
          "base_uri": "https://localhost:8080/"
        },
        "id": "3f229a5d",
        "outputId": "4c3fd55e-ce60-4556-ee08-a51697b93ebf"
      },
      "outputs": [
        {
          "output_type": "stream",
          "name": "stdout",
          "text": [
            "Masquage arr = [1 2 3 -- -- -- 7 8]\n",
            "Somme en ignorant masqués = 21\n"
          ]
        }
      ],
      "source": [
        "arr = np.array([1,2,3,4,5,6,7,8])\n",
        "ma_arr = ma.masked_array(arr, mask=[False,False,False,True,True,True,False,False])\n",
        "print('Masquage arr =', ma_arr)\n",
        "print('Somme en ignorant masqués =', ma_arr.sum())"
      ]
    },
    {
      "cell_type": "markdown",
      "id": "236fa0d5",
      "metadata": {
        "id": "236fa0d5"
      },
      "source": [
        "### 1.4 Boolean Indexing"
      ]
    },
    {
      "cell_type": "code",
      "execution_count": null,
      "id": "510e4ad4",
      "metadata": {
        "colab": {
          "base_uri": "https://localhost:8080/"
        },
        "id": "510e4ad4",
        "outputId": "73d9edb4-6ad0-410d-e69f-c990f77880d9"
      },
      "outputs": [
        {
          "output_type": "stream",
          "name": "stdout",
          "text": [
            "A après condition (A<5)=10:\n",
            " [[10 10 10]\n",
            " [10  5  6]\n",
            " [ 7  8  9]]\n",
            "A après condition 2<A<5=10:\n",
            " [[ 1  2 10]\n",
            " [10  5  6]\n",
            " [ 7  8  9]]\n"
          ]
        }
      ],
      "source": [
        "A_bool = A.copy()\n",
        "A_bool[A_bool < 5] = 10\n",
        "print('A après condition (A<5)=10:\\n', A_bool)\n",
        "\n",
        "A_bool2 = A.copy()\n",
        "A_bool2[(A_bool2 < 5) & (A_bool2 > 2)] = 10\n",
        "print('A après condition 2<A<5=10:\\n', A_bool2)"
      ]
    },
    {
      "cell_type": "markdown",
      "id": "c7d4e6de",
      "metadata": {
        "id": "c7d4e6de"
      },
      "source": [
        "## 2. Fonctions mathématiques"
      ]
    },
    {
      "cell_type": "markdown",
      "id": "485dd1f5",
      "metadata": {
        "id": "485dd1f5"
      },
      "source": [
        "### 2.1 Fonctions principales"
      ]
    },
    {
      "cell_type": "code",
      "execution_count": null,
      "id": "16f6d160",
      "metadata": {
        "colab": {
          "base_uri": "https://localhost:8080/"
        },
        "id": "16f6d160",
        "outputId": "9ab6fdc7-d7c4-47ee-d7d1-cb38e6fd687f"
      },
      "outputs": [
        {
          "output_type": "stream",
          "name": "stdout",
          "text": [
            "Somme totale = 45\n",
            "Somme par colonnes = [12 15 18]\n",
            "Somme par lignes = [ 6 15 24]\n",
            "Min global = 1  - Max global = 9\n",
            "Indice min global = 0  - Indice max ligne par ligne = [2 2 2]\n",
            "np.sin(A):\n",
            " [[ 0.84147098  0.90929743  0.14112001]\n",
            " [-0.7568025  -0.95892427 -0.2794155 ]\n",
            " [ 0.6569866   0.98935825  0.41211849]]\n",
            "np.exp(A):\n",
            " [[2.71828183e+00 7.38905610e+00 2.00855369e+01]\n",
            " [5.45981500e+01 1.48413159e+02 4.03428793e+02]\n",
            " [1.09663316e+03 2.98095799e+03 8.10308393e+03]]\n"
          ]
        }
      ],
      "source": [
        "print('Somme totale =', A.sum())\n",
        "print('Somme par colonnes =', A.sum(axis=0))\n",
        "print('Somme par lignes =', A.sum(axis=1))\n",
        "print('Min global =', A.min(), ' - Max global =', A.max())\n",
        "print('Indice min global =', A.argmin(), ' - Indice max ligne par ligne =', A.argmax(axis=1))\n",
        "print('np.sin(A):\\n', np.sin(A))\n",
        "print('np.exp(A):\\n', np.exp(A))"
      ]
    },
    {
      "cell_type": "markdown",
      "id": "510fda83",
      "metadata": {
        "id": "510fda83"
      },
      "source": [
        "### 2.2 Fonctions statistiques"
      ]
    },
    {
      "cell_type": "code",
      "execution_count": null,
      "id": "cb149502",
      "metadata": {
        "colab": {
          "base_uri": "https://localhost:8080/"
        },
        "id": "cb149502",
        "outputId": "d805d9de-ed56-45d0-f3a1-4af32d2696cc"
      },
      "outputs": [
        {
          "output_type": "stream",
          "name": "stdout",
          "text": [
            "Moyenne = 5.0\n",
            "Ecart-type = 2.581988897471611\n",
            "Variance = 6.666666666666667\n",
            "Matrice de corrélation =\n",
            " [[1. 1. 1.]\n",
            " [1. 1. 1.]\n",
            " [1. 1. 1.]]\n"
          ]
        }
      ],
      "source": [
        "print('Moyenne =', A.mean())\n",
        "print('Ecart-type =', A.std())\n",
        "print('Variance =', A.var())\n",
        "print('Matrice de corrélation =\\n', np.corrcoef(A))"
      ]
    },
    {
      "cell_type": "markdown",
      "id": "dd8d3a99",
      "metadata": {
        "id": "dd8d3a99"
      },
      "source": [
        "#### Gestion des NaN"
      ]
    },
    {
      "cell_type": "code",
      "execution_count": null,
      "id": "b483fbfc",
      "metadata": {
        "colab": {
          "base_uri": "https://localhost:8080/"
        },
        "id": "b483fbfc",
        "outputId": "116b3d66-0eb8-4231-b06f-06e5d6c5642e"
      },
      "outputs": [
        {
          "output_type": "stream",
          "name": "stdout",
          "text": [
            "Tableau avec NaN:\n",
            " [[ 0.10412919  2.4139608          nan  0.95400515 -0.49915263]\n",
            " [-1.67302978  1.19588177 -0.03717435 -1.12479523  0.2932445 ]\n",
            " [ 0.16248368 -0.78226005 -0.32900815 -0.35475353 -1.66833365]\n",
            " [ 0.0686551   0.32869724 -1.36736624 -1.18058942 -0.17835102]\n",
            " [-0.69067292 -1.04624957 -1.18273717         nan  1.01674224]]\n",
            "Moyenne sans NaN = -0.24246408870131098\n",
            "Nombre de NaN = 2\n",
            "Pourcentage de NaN = 0.08\n",
            "Tableau corrigé:\n",
            " [[ 0.10412919  2.4139608   0.5         0.95400515 -0.49915263]\n",
            " [-1.67302978  1.19588177 -0.03717435 -1.12479523  0.2932445 ]\n",
            " [ 0.16248368 -0.78226005 -0.32900815 -0.35475353 -1.66833365]\n",
            " [ 0.0686551   0.32869724 -1.36736624 -1.18058942 -0.17835102]\n",
            " [-0.69067292 -1.04624957 -1.18273717  0.5         1.01674224]]\n"
          ]
        }
      ],
      "source": [
        "B = np.random.randn(5,5)\n",
        "B[0,2]=np.nan\n",
        "B[4,3]=np.nan\n",
        "print('Tableau avec NaN:\\n', B)\n",
        "print('Moyenne sans NaN =', np.nanmean(B))\n",
        "print('Nombre de NaN =', np.isnan(B).sum())\n",
        "print('Pourcentage de NaN =', np.isnan(B).sum()/B.size)\n",
        "B[np.isnan(B)] = 0.5\n",
        "print('Tableau corrigé:\\n', B)"
      ]
    },
    {
      "cell_type": "markdown",
      "id": "8a8e0d4e",
      "metadata": {
        "id": "8a8e0d4e"
      },
      "source": [
        "### 2.3 Algèbre linéaire"
      ]
    },
    {
      "cell_type": "code",
      "execution_count": null,
      "id": "1f7fd5a4",
      "metadata": {
        "colab": {
          "base_uri": "https://localhost:8080/"
        },
        "id": "1f7fd5a4",
        "outputId": "88b99bc5-4f1b-49d8-b073-7175fcf6147c"
      },
      "outputs": [
        {
          "output_type": "stream",
          "name": "stdout",
          "text": [
            "A2 = [[1 2 3 4]]\n",
            "B2 =\n",
            " [[1]\n",
            " [2]\n",
            " [3]\n",
            " [4]]\n",
            "Transpose A2 =\n",
            " [[1]\n",
            " [2]\n",
            " [3]\n",
            " [4]]\n",
            "Produit A2.dot(B2) = [[30]]\n"
          ]
        }
      ],
      "source": [
        "A2 = np.array([[1,2,3,4]])\n",
        "B2 = np.array([[1],[2],[3],[4]])\n",
        "print('A2 =', A2)\n",
        "print('B2 =\\n', B2)\n",
        "print('Transpose A2 =\\n', A2.T)\n",
        "print('Produit A2.dot(B2) =', A2.dot(B2))"
      ]
    },
    {
      "cell_type": "markdown",
      "id": "fc7e2f71",
      "metadata": {
        "id": "fc7e2f71"
      },
      "source": [
        "### Broadcasting"
      ]
    },
    {
      "cell_type": "code",
      "execution_count": null,
      "id": "63e67d29",
      "metadata": {
        "colab": {
          "base_uri": "https://localhost:8080/"
        },
        "id": "63e67d29",
        "outputId": "57597b79-28b5-40da-f557-5726e9d97178"
      },
      "outputs": [
        {
          "output_type": "stream",
          "name": "stdout",
          "text": [
            "A + 2 =\n",
            " [[ 3  4  5]\n",
            " [ 6  7  8]\n",
            " [ 9 10 11]]\n"
          ]
        }
      ],
      "source": [
        "print('A + 2 =\\n', A+2)"
      ]
    }
  ],
  "metadata": {
    "colab": {
      "provenance": []
    },
    "language_info": {
      "name": "python"
    },
    "kernelspec": {
      "name": "python3",
      "display_name": "Python 3"
    }
  },
  "nbformat": 4,
  "nbformat_minor": 5
}